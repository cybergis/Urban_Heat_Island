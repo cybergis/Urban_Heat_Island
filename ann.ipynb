{
 "cells": [
  {
   "cell_type": "code",
   "execution_count": 77,
   "metadata": {},
   "outputs": [],
   "source": [
    "import numpy as np\n",
    "import tensorflow as tf\n",
    "import matplotlib.pyplot as plt"
   ]
  },
  {
   "cell_type": "code",
   "execution_count": 2,
   "metadata": {},
   "outputs": [],
   "source": [
    "import pandas as pd"
   ]
  },
  {
   "cell_type": "code",
   "execution_count": 3,
   "metadata": {},
   "outputs": [],
   "source": [
    "data = pd.read_csv(\"./final_input/rt.csv\")"
   ]
  },
  {
   "cell_type": "code",
   "execution_count": 4,
   "metadata": {},
   "outputs": [],
   "source": [
    "df = data[data[\"temp\"]<50]"
   ]
  },
  {
   "cell_type": "code",
   "execution_count": 5,
   "metadata": {},
   "outputs": [
    {
     "data": {
      "text/plain": [
       "array([30.883 , 28.089 , 33.555 , ..., 24.0185, 22.449 , 32.1185])"
      ]
     },
     "execution_count": 5,
     "metadata": {},
     "output_type": "execute_result"
    }
   ],
   "source": [
    "Y = df[\"temp\"]\n",
    "data_Y = np.array(Y.tolist())\n",
    "data_Y"
   ]
  },
  {
   "cell_type": "code",
   "execution_count": 6,
   "metadata": {},
   "outputs": [
    {
     "name": "stderr",
     "output_type": "stream",
     "text": [
      "/Users/carnivalbug/Library/Python/2.7/lib/python/site-packages/pandas/core/frame.py:3940: SettingWithCopyWarning: \n",
      "A value is trying to be set on a copy of a slice from a DataFrame\n",
      "\n",
      "See the caveats in the documentation: http://pandas.pydata.org/pandas-docs/stable/indexing.html#indexing-view-versus-copy\n",
      "  errors=errors)\n"
     ]
    }
   ],
   "source": [
    "df.drop(df.columns[[0, 1]], axis=1, inplace=True)"
   ]
  },
  {
   "cell_type": "code",
   "execution_count": 7,
   "metadata": {},
   "outputs": [],
   "source": [
    "data_X = df.values"
   ]
  },
  {
   "cell_type": "code",
   "execution_count": 15,
   "metadata": {},
   "outputs": [
    {
     "name": "stdout",
     "output_type": "stream",
     "text": [
      "((42168, 16), (42168,), (10543, 16), (10543,))\n"
     ]
    }
   ],
   "source": [
    "from sklearn.model_selection import train_test_split\n",
    "\n",
    "X_train, X_test, y_train, y_test = train_test_split(data_X, data_Y, test_size=0.2, random_state=42)\n",
    "y_train  = y_train.astype(float)\n",
    "y_test  = y_test.astype(float)\n",
    "batch_size =len(X_train)\n",
    "\n",
    "print(X_train.shape, y_train.shape, X_test.shape, y_test.shape )"
   ]
  },
  {
   "cell_type": "code",
   "execution_count": 69,
   "metadata": {},
   "outputs": [],
   "source": [
    "from tensorflow.keras.models import Sequential, Model, load_model, save_model\n",
    "from tensorflow.keras.callbacks import ModelCheckpoint\n",
    "from tensorflow.keras.layers import Dense, Activation, Dropout, Input, Masking, TimeDistributed, LSTM, Conv1D, Embedding\n",
    "from tensorflow.keras.layers import GRU, Bidirectional, BatchNormalization, Reshape\n",
    "from tensorflow.keras.optimizers import Adam\n",
    "\n",
    "from tensorflow.keras.layers import Reshape, Dropout, Dense,Multiply, Dot, Concatenate,Embedding\n",
    "from tensorflow.keras import optimizers\n",
    "from tensorflow.keras.callbacks import ModelCheckpoint\n",
    "from tensorflow.keras.optimizers import SGD\n",
    "from tensorflow.keras.callbacks import EarlyStopping "
   ]
  },
  {
   "cell_type": "markdown",
   "metadata": {},
   "source": [
    "## ANN"
   ]
  },
  {
   "cell_type": "code",
   "execution_count": 125,
   "metadata": {},
   "outputs": [],
   "source": [
    "classifier = Sequential()\n",
    "     # better values with tanh against relu, sigmoid...\n",
    "classifier.add(Dense(64, activation = 'tanh', input_dim = 16)) \n",
    "classifier.add(Dropout(0.2))\n",
    "classifier.add(Dense(32, activation='relu')) \n",
    "classifier.add(Dropout(0.2))\n",
    "classifier.add(Dense(8, activation='relu')) \n",
    "classifier.add(Dropout(0.2))\n",
    "classifier.add(Dense(1))\n",
    "classifier.compile(optimizer = 'sgd', loss = 'mean_absolute_error')"
   ]
  },
  {
   "cell_type": "code",
   "execution_count": 126,
   "metadata": {},
   "outputs": [],
   "source": [
    "history_mse = classifier.fit(data_X, data_Y, epochs = 100, verbose = 0, validation_split = 0.2)"
   ]
  },
  {
   "cell_type": "code",
   "execution_count": 127,
   "metadata": {
    "scrolled": true
   },
   "outputs": [
    {
     "name": "stdout",
     "output_type": "stream",
     "text": [
      "10543/10543 [==============================] - 0s 19us/sample - loss: 3.7679\n",
      "('Test Score:', 3.7679259575126767)\n",
      "42168/42168 [==============================] - 1s 18us/sample - loss: 3.7057\n",
      "('Train Score:', 3.705663742817369)\n"
     ]
    }
   ],
   "source": [
    "score_mse_test = classifier.evaluate(X_test, y_test)\n",
    "print('Test Score:', score_mse_test)\n",
    "\n",
    "score_mse_train = classifier.evaluate(X_train, y_train)\n",
    "print('Train Score:', score_mse_train)"
   ]
  },
  {
   "cell_type": "code",
   "execution_count": 129,
   "metadata": {
    "scrolled": true
   },
   "outputs": [
    {
     "data": {
      "text/plain": [
       "<matplotlib.legend.Legend at 0x14a2f6a50>"
      ]
     },
     "execution_count": 129,
     "metadata": {},
     "output_type": "execute_result"
    },
    {
     "data": {
      "image/png": "[encoded data removed]",
      "text/plain": [
       "<Figure size 1080x432 with 1 Axes>"
      ]
     },
     "metadata": {
      "needs_background": "light"
     },
     "output_type": "display_data"
    }
   ],
   "source": [
    "plt.figure(figsize=(15, 6))\n",
    "plt.plot(history_mse.history['loss'], lw =3, ls = '--', label = 'Loss')\n",
    "plt.plot(history_mse.history['val_loss'], lw =2, ls = '-', label = 'Val Loss')\n",
    "plt.xlabel('Epochs', fontsize=15)\n",
    "plt.ylabel('Loss', fontsize=15)\n",
    "plt.title('2020 MAE, ANN')\n",
    "plt.legend()"
   ]
  },
  {
   "cell_type": "code",
   "execution_count": null,
   "metadata": {},
   "outputs": [],
   "source": []
  },
  {
   "cell_type": "code",
   "execution_count": 135,
   "metadata": {},
   "outputs": [],
   "source": [
    "classifier = Sequential()\n",
    "     # better values with tanh against relu, sigmoid...\n",
    "classifier.add(Dense(64, activation = 'relu', input_dim = 16)) \n",
    "classifier.add(Dropout(0.2))\n",
    "classifier.add(Dense(32, activation='relu')) \n",
    "classifier.add(Dropout(0.2))\n",
    "classifier.add(Dense(8, activation='relu')) \n",
    "classifier.add(Dropout(0.2))\n",
    "classifier.add(Dense(1))\n",
    "classifier.compile(optimizer = 'sgd', loss = 'mean_absolute_error')"
   ]
  },
  {
   "cell_type": "code",
   "execution_count": 136,
   "metadata": {},
   "outputs": [],
   "source": [
    "history_mse = classifier.fit(data_X, data_Y, epochs = 100, verbose = 0, validation_split = 0.2)"
   ]
  },
  {
   "cell_type": "code",
   "execution_count": 137,
   "metadata": {},
   "outputs": [
    {
     "name": "stdout",
     "output_type": "stream",
     "text": [
      "10543/10543 [==============================] - 0s 18us/sample - loss: 3.7707\n",
      "('Test Score:', 3.770698371834019)\n",
      "42168/42168 [==============================] - 1s 15us/sample - loss: 3.7102\n",
      "('Train Score:', 3.710249427056498)\n"
     ]
    }
   ],
   "source": [
    "score_mse_test = classifier.evaluate(X_test, y_test)\n",
    "print('Test Score:', score_mse_test)\n",
    "\n",
    "score_mse_train = classifier.evaluate(X_train, y_train)\n",
    "print('Train Score:', score_mse_train)"
   ]
  },
  {
   "cell_type": "code",
   "execution_count": null,
   "metadata": {},
   "outputs": [],
   "source": []
  },
  {
   "cell_type": "code",
   "execution_count": null,
   "metadata": {},
   "outputs": [],
   "source": []
  },
  {
   "cell_type": "code",
   "execution_count": 139,
   "metadata": {},
   "outputs": [],
   "source": [
    "classifier = Sequential()\n",
    "     # better values with tanh against relu, sigmoid...\n",
    "classifier.add(Dense(64, activation = 'sigmoid', input_dim = 16)) \n",
    "classifier.add(Dropout(0.2))\n",
    "classifier.add(Dense(32, activation='relu')) \n",
    "classifier.add(Dropout(0.2))\n",
    "classifier.add(Dense(8, activation='relu')) \n",
    "classifier.add(Dropout(0.2))\n",
    "classifier.add(Dense(1))\n",
    "classifier.compile(optimizer = 'sgd', loss = 'mean_absolute_error')"
   ]
  },
  {
   "cell_type": "code",
   "execution_count": 140,
   "metadata": {},
   "outputs": [],
   "source": [
    "history_mse = classifier.fit(data_X, data_Y, epochs = 100, verbose = 0, validation_split = 0.2)"
   ]
  },
  {
   "cell_type": "code",
   "execution_count": 141,
   "metadata": {},
   "outputs": [
    {
     "name": "stdout",
     "output_type": "stream",
     "text": [
      "10543/10543 [==============================] - 0s 15us/sample - loss: 3.7679\n",
      "('Test Score:', 3.767851074110746)\n",
      "42168/42168 [==============================] - 1s 21us/sample - loss: 3.70430s - \n",
      "('Train Score:', 3.7043373015274748)\n"
     ]
    }
   ],
   "source": [
    "score_mse_test = classifier.evaluate(X_test, y_test)\n",
    "print('Test Score:', score_mse_test)\n",
    "\n",
    "score_mse_train = classifier.evaluate(X_train, y_train)\n",
    "print('Train Score:', score_mse_train)"
   ]
  },
  {
   "cell_type": "code",
   "execution_count": 142,
   "metadata": {},
   "outputs": [
    {
     "data": {
      "text/plain": [
       "<matplotlib.legend.Legend at 0x14a7bef10>"
      ]
     },
     "execution_count": 142,
     "metadata": {},
     "output_type": "execute_result"
    },
    {
     "data": {
      "image/png": "[encoded data removed]",
      "text/plain": [
       "<Figure size 1080x432 with 1 Axes>"
      ]
     },
     "metadata": {
      "needs_background": "light"
     },
     "output_type": "display_data"
    }
   ],
   "source": [
    "plt.figure(figsize=(15, 6))\n",
    "plt.plot(history_mse.history['loss'], lw =3, ls = '--', label = 'Loss')\n",
    "plt.plot(history_mse.history['val_loss'], lw =2, ls = '-', label = 'Val Loss')\n",
    "plt.xlabel('Epochs', fontsize=15)\n",
    "plt.ylabel('Loss', fontsize=15)\n",
    "plt.title('2020 MAE, ANN')\n",
    "plt.legend()"
   ]
  },
  {
   "cell_type": "code",
   "execution_count": null,
   "metadata": {},
   "outputs": [],
   "source": []
  }
 ],
 "metadata": {
  "kernelspec": {
   "display_name": "Python 2",
   "language": "python",
   "name": "python2"
  },
  "language_info": {
   "codemirror_mode": {
    "name": "ipython",
    "version": 2
   },
   "file_extension": ".py",
   "mimetype": "text/x-python",
   "name": "python",
   "nbconvert_exporter": "python",
   "pygments_lexer": "ipython2",
   "version": "2.7.16"
  }
 },
 "nbformat": 4,
 "nbformat_minor": 4
}
