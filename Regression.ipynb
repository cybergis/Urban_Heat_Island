{
 "cells": [
  {
   "cell_type": "markdown",
   "metadata": {},
   "source": [
    "# 2018, Regression"
   ]
  },
  {
   "cell_type": "code",
   "execution_count": 37,
   "metadata": {},
   "outputs": [],
   "source": [
    "import pandas as pd\n",
    "import numpy as np"
   ]
  },
  {
   "cell_type": "code",
   "execution_count": 38,
   "metadata": {},
   "outputs": [],
   "source": [
    "data = pd.read_csv(\"./final_input/rt.csv\")"
   ]
  },
  {
   "cell_type": "code",
   "execution_count": 39,
   "metadata": {},
   "outputs": [],
   "source": [
    "df = data"
   ]
  },
  {
   "cell_type": "code",
   "execution_count": 40,
   "metadata": {},
   "outputs": [
    {
     "data": {
      "text/plain": [
       "array([27.613 , 23.1775, 19.889 , ..., 25.954 , 22.4645, 20.319 ])"
      ]
     },
     "execution_count": 40,
     "metadata": {},
     "output_type": "execute_result"
    }
   ],
   "source": [
    "Y = df[\"temp\"]\n",
    "data_Y = np.array(Y.tolist())\n",
    "data_Y"
   ]
  },
  {
   "cell_type": "code",
   "execution_count": 41,
   "metadata": {},
   "outputs": [
    {
     "name": "stderr",
     "output_type": "stream",
     "text": [
      "/Users/carnivalbug/opt/anaconda3/lib/python3.8/site-packages/pandas/core/frame.py:4163: SettingWithCopyWarning: \n",
      "A value is trying to be set on a copy of a slice from a DataFrame\n",
      "\n",
      "See the caveats in the documentation: https://pandas.pydata.org/pandas-docs/stable/user_guide/indexing.html#returning-a-view-versus-a-copy\n",
      "  return super().drop(\n"
     ]
    }
   ],
   "source": [
    "df.drop(df.columns[[0, 1]], axis=1, inplace=True)"
   ]
  },
  {
   "cell_type": "code",
   "execution_count": 42,
   "metadata": {},
   "outputs": [],
   "source": [
    "data_X = df.values"
   ]
  },
  {
   "cell_type": "code",
   "execution_count": 43,
   "metadata": {},
   "outputs": [
    {
     "data": {
      "text/plain": [
       "array([27.613 , 23.1775, 19.889 , ..., 25.954 , 22.4645, 20.319 ])"
      ]
     },
     "execution_count": 43,
     "metadata": {},
     "output_type": "execute_result"
    }
   ],
   "source": [
    "data_Y"
   ]
  },
  {
   "cell_type": "code",
   "execution_count": 44,
   "metadata": {},
   "outputs": [
    {
     "data": {
      "text/plain": [
       "array([[ 4.4761e+01,  1.0310e+00,  0.0000e+00, ...,  9.0500e+02,\n",
       "         2.0000e+00,  2.0180e+03],\n",
       "       [ 7.6410e+01,  5.0000e-01,  1.1200e-01, ...,  1.2650e+03,\n",
       "         3.0000e+00,  2.0180e+03],\n",
       "       [ 8.2507e+01,  1.4220e+01, -1.8800e-01, ...,  1.2150e+03,\n",
       "         0.0000e+00,  2.0180e+03],\n",
       "       ...,\n",
       "       [ 4.8914e+01,  4.5600e-01, -9.7000e-02, ...,  1.0450e+03,\n",
       "         9.2000e+01,  2.0180e+03],\n",
       "       [ 7.3932e+01,  2.3230e+00,  3.9000e-02, ...,  3.2500e+02,\n",
       "         9.0000e+01,  2.0180e+03],\n",
       "       [ 1.0000e+02,  6.5400e-01,  1.3200e-01, ...,  8.5500e+02,\n",
       "         9.4000e+01,  2.0180e+03]])"
      ]
     },
     "execution_count": 44,
     "metadata": {},
     "output_type": "execute_result"
    }
   ],
   "source": [
    "data_X"
   ]
  },
  {
   "cell_type": "code",
   "execution_count": 45,
   "metadata": {},
   "outputs": [
    {
     "data": {
      "text/plain": [
       "(770290, 16)"
      ]
     },
     "execution_count": 45,
     "metadata": {},
     "output_type": "execute_result"
    }
   ],
   "source": [
    "data_X.shape"
   ]
  },
  {
   "cell_type": "markdown",
   "metadata": {},
   "source": [
    "## Normalization"
   ]
  },
  {
   "cell_type": "code",
   "execution_count": 46,
   "metadata": {},
   "outputs": [],
   "source": [
    "def column(matrix, i):\n",
    "    return [row[i] for row in matrix]\n",
    "def norm(lst):\n",
    "    min_v = min(lst)\n",
    "    max_v = max(lst)\n",
    "    norm_lst = [(i-min_v)/(max_v-min_v) for i in lst]\n",
    "    return norm_lst"
   ]
  },
  {
   "cell_type": "code",
   "execution_count": 47,
   "metadata": {},
   "outputs": [],
   "source": [
    "curr = column(data_X, 0)\n",
    "rt = np.array([norm(curr)])\n",
    "for i in range(1, 15):\n",
    "    if (i!=3):\n",
    "        curr = column(data_X, i)\n",
    "        rt = np.concatenate((rt, np.array([norm(curr)])))"
   ]
  },
  {
   "cell_type": "code",
   "execution_count": 48,
   "metadata": {},
   "outputs": [
    {
     "data": {
      "text/plain": [
       "(770290, 14)"
      ]
     },
     "execution_count": 48,
     "metadata": {},
     "output_type": "execute_result"
    }
   ],
   "source": [
    "final_rt = rt.T\n",
    "final_rt.shape"
   ]
  },
  {
   "cell_type": "code",
   "execution_count": 49,
   "metadata": {},
   "outputs": [],
   "source": [
    "data_X = final_rt"
   ]
  },
  {
   "cell_type": "code",
   "execution_count": 50,
   "metadata": {},
   "outputs": [],
   "source": [
    "from sklearn.preprocessing import PolynomialFeatures"
   ]
  },
  {
   "cell_type": "code",
   "execution_count": 51,
   "metadata": {},
   "outputs": [],
   "source": [
    "poly = PolynomialFeatures(2)"
   ]
  },
  {
   "cell_type": "code",
   "execution_count": 52,
   "metadata": {},
   "outputs": [],
   "source": [
    "X = poly.fit_transform(data_X)"
   ]
  },
  {
   "cell_type": "code",
   "execution_count": 53,
   "metadata": {},
   "outputs": [],
   "source": [
    "Y = data_Y"
   ]
  },
  {
   "cell_type": "code",
   "execution_count": 54,
   "metadata": {},
   "outputs": [
    {
     "data": {
      "text/plain": [
       "(770290, 120)"
      ]
     },
     "execution_count": 54,
     "metadata": {},
     "output_type": "execute_result"
    }
   ],
   "source": [
    "X.shape"
   ]
  },
  {
   "cell_type": "code",
   "execution_count": 55,
   "metadata": {},
   "outputs": [],
   "source": [
    "import statsmodels.api as sm\n",
    "X = sm.add_constant(X)"
   ]
  },
  {
   "cell_type": "code",
   "execution_count": 56,
   "metadata": {},
   "outputs": [
    {
     "data": {
      "text/plain": [
       "(770290,)"
      ]
     },
     "execution_count": 56,
     "metadata": {},
     "output_type": "execute_result"
    }
   ],
   "source": [
    "Y.shape"
   ]
  },
  {
   "cell_type": "code",
   "execution_count": 57,
   "metadata": {},
   "outputs": [
    {
     "name": "stdout",
     "output_type": "stream",
     "text": [
      "(616232, 120) (616232,) (154058, 120) (154058,)\n"
     ]
    }
   ],
   "source": [
    "from sklearn.model_selection import train_test_split\n",
    "\n",
    "X_train, X_test, y_train, y_test = train_test_split(X, np.array(Y), test_size=0.2, random_state=42)\n",
    "y_train  = y_train.astype(float)\n",
    "y_test  = y_test.astype(float)\n",
    "batch_size =len(X_train)\n",
    "\n",
    "print(X_train.shape, y_train.shape, X_test.shape, y_test.shape )"
   ]
  },
  {
   "cell_type": "code",
   "execution_count": null,
   "metadata": {},
   "outputs": [],
   "source": []
  },
  {
   "cell_type": "code",
   "execution_count": 58,
   "metadata": {},
   "outputs": [
    {
     "data": {
      "text/html": [
       "<table class=\"simpletable\">\n",
       "<caption>OLS Regression Results</caption>\n",
       "<tr>\n",
       "  <th>Dep. Variable:</th>            <td>y</td>        <th>  R-squared:         </th>  <td>   0.335</td>  \n",
       "</tr>\n",
       "<tr>\n",
       "  <th>Model:</th>                   <td>OLS</td>       <th>  Adj. R-squared:    </th>  <td>   0.335</td>  \n",
       "</tr>\n",
       "<tr>\n",
       "  <th>Method:</th>             <td>Least Squares</td>  <th>  F-statistic:       </th>  <td>   2610.</td>  \n",
       "</tr>\n",
       "<tr>\n",
       "  <th>Date:</th>             <td>Wed, 25 Aug 2021</td> <th>  Prob (F-statistic):</th>   <td>  0.00</td>   \n",
       "</tr>\n",
       "<tr>\n",
       "  <th>Time:</th>                 <td>19:45:24</td>     <th>  Log-Likelihood:    </th> <td>-1.6682e+06</td>\n",
       "</tr>\n",
       "<tr>\n",
       "  <th>No. Observations:</th>      <td>616232</td>      <th>  AIC:               </th>  <td>3.337e+06</td> \n",
       "</tr>\n",
       "<tr>\n",
       "  <th>Df Residuals:</th>          <td>616112</td>      <th>  BIC:               </th>  <td>3.338e+06</td> \n",
       "</tr>\n",
       "<tr>\n",
       "  <th>Df Model:</th>              <td>   119</td>      <th>                     </th>      <td> </td>     \n",
       "</tr>\n",
       "<tr>\n",
       "  <th>Covariance Type:</th>      <td>nonrobust</td>    <th>                     </th>      <td> </td>     \n",
       "</tr>\n",
       "</table>\n",
       "<table class=\"simpletable\">\n",
       "<tr>\n",
       "    <td></td>       <th>coef</th>     <th>std err</th>      <th>t</th>      <th>P>|t|</th>  <th>[0.025</th>    <th>0.975]</th>  \n",
       "</tr>\n",
       "<tr>\n",
       "  <th>const</th> <td> -454.2643</td> <td>   21.474</td> <td>  -21.154</td> <td> 0.000</td> <td> -496.353</td> <td> -412.176</td>\n",
       "</tr>\n",
       "<tr>\n",
       "  <th>x1</th>    <td>  493.6005</td> <td>   22.141</td> <td>   22.294</td> <td> 0.000</td> <td>  450.205</td> <td>  536.996</td>\n",
       "</tr>\n",
       "<tr>\n",
       "  <th>x2</th>    <td> 1144.3655</td> <td>   28.701</td> <td>   39.872</td> <td> 0.000</td> <td> 1088.112</td> <td> 1200.619</td>\n",
       "</tr>\n",
       "<tr>\n",
       "  <th>x3</th>    <td>  751.2588</td> <td>   41.066</td> <td>   18.294</td> <td> 0.000</td> <td>  670.771</td> <td>  831.747</td>\n",
       "</tr>\n",
       "<tr>\n",
       "  <th>x4</th>    <td> -184.1886</td> <td>    5.024</td> <td>  -36.664</td> <td> 0.000</td> <td> -194.035</td> <td> -174.342</td>\n",
       "</tr>\n",
       "<tr>\n",
       "  <th>x5</th>    <td> 5436.6805</td> <td>  299.664</td> <td>   18.143</td> <td> 0.000</td> <td> 4849.349</td> <td> 6024.012</td>\n",
       "</tr>\n",
       "<tr>\n",
       "  <th>x6</th>    <td>-4983.6394</td> <td>  351.575</td> <td>  -14.175</td> <td> 0.000</td> <td>-5672.716</td> <td>-4294.563</td>\n",
       "</tr>\n",
       "<tr>\n",
       "  <th>x7</th>    <td>-2325.0718</td> <td>  278.696</td> <td>   -8.343</td> <td> 0.000</td> <td>-2871.307</td> <td>-1778.837</td>\n",
       "</tr>\n",
       "<tr>\n",
       "  <th>x8</th>    <td>   48.2559</td> <td>  299.519</td> <td>    0.161</td> <td> 0.872</td> <td> -538.793</td> <td>  635.304</td>\n",
       "</tr>\n",
       "<tr>\n",
       "  <th>x9</th>    <td> 2303.2165</td> <td>   85.227</td> <td>   27.024</td> <td> 0.000</td> <td> 2136.174</td> <td> 2470.259</td>\n",
       "</tr>\n",
       "<tr>\n",
       "  <th>x10</th>   <td>-5985.3618</td> <td>  141.918</td> <td>  -42.175</td> <td> 0.000</td> <td>-6263.517</td> <td>-5707.206</td>\n",
       "</tr>\n",
       "<tr>\n",
       "  <th>x11</th>   <td> 5133.7684</td> <td>  122.737</td> <td>   41.827</td> <td> 0.000</td> <td> 4893.207</td> <td> 5374.329</td>\n",
       "</tr>\n",
       "<tr>\n",
       "  <th>x12</th>   <td>  228.4778</td> <td>    4.718</td> <td>   48.425</td> <td> 0.000</td> <td>  219.230</td> <td>  237.725</td>\n",
       "</tr>\n",
       "<tr>\n",
       "  <th>x13</th>   <td>  -15.3417</td> <td>    1.899</td> <td>   -8.080</td> <td> 0.000</td> <td>  -19.063</td> <td>  -11.620</td>\n",
       "</tr>\n",
       "<tr>\n",
       "  <th>x14</th>   <td>   78.4159</td> <td>    3.496</td> <td>   22.433</td> <td> 0.000</td> <td>   71.565</td> <td>   85.267</td>\n",
       "</tr>\n",
       "<tr>\n",
       "  <th>x15</th>   <td>   20.9337</td> <td>    0.639</td> <td>   32.760</td> <td> 0.000</td> <td>   19.681</td> <td>   22.186</td>\n",
       "</tr>\n",
       "<tr>\n",
       "  <th>x16</th>   <td> -121.9070</td> <td>    2.149</td> <td>  -56.721</td> <td> 0.000</td> <td> -126.119</td> <td> -117.695</td>\n",
       "</tr>\n",
       "<tr>\n",
       "  <th>x17</th>   <td> -983.5331</td> <td>   40.945</td> <td>  -24.021</td> <td> 0.000</td> <td>-1063.784</td> <td> -903.283</td>\n",
       "</tr>\n",
       "<tr>\n",
       "  <th>x18</th>   <td>   -2.1289</td> <td>    0.400</td> <td>   -5.323</td> <td> 0.000</td> <td>   -2.913</td> <td>   -1.345</td>\n",
       "</tr>\n",
       "<tr>\n",
       "  <th>x19</th>   <td>  -30.7916</td> <td>   10.983</td> <td>   -2.804</td> <td> 0.005</td> <td>  -52.318</td> <td>   -9.266</td>\n",
       "</tr>\n",
       "<tr>\n",
       "  <th>x20</th>   <td>  431.9401</td> <td>   11.198</td> <td>   38.573</td> <td> 0.000</td> <td>  409.993</td> <td>  453.888</td>\n",
       "</tr>\n",
       "<tr>\n",
       "  <th>x21</th>   <td>  341.9327</td> <td>   13.133</td> <td>   26.036</td> <td> 0.000</td> <td>  316.193</td> <td>  367.673</td>\n",
       "</tr>\n",
       "<tr>\n",
       "  <th>x22</th>   <td> -738.8700</td> <td>   12.502</td> <td>  -59.102</td> <td> 0.000</td> <td> -763.373</td> <td> -714.367</td>\n",
       "</tr>\n",
       "<tr>\n",
       "  <th>x23</th>   <td>  -52.0658</td> <td>    4.019</td> <td>  -12.954</td> <td> 0.000</td> <td>  -59.944</td> <td>  -44.188</td>\n",
       "</tr>\n",
       "<tr>\n",
       "  <th>x24</th>   <td>   64.9081</td> <td>    8.272</td> <td>    7.846</td> <td> 0.000</td> <td>   48.694</td> <td>   81.122</td>\n",
       "</tr>\n",
       "<tr>\n",
       "  <th>x25</th>   <td>   50.2480</td> <td>    5.571</td> <td>    9.019</td> <td> 0.000</td> <td>   39.328</td> <td>   61.168</td>\n",
       "</tr>\n",
       "<tr>\n",
       "  <th>x26</th>   <td>   -6.4187</td> <td>    0.419</td> <td>  -15.334</td> <td> 0.000</td> <td>   -7.239</td> <td>   -5.598</td>\n",
       "</tr>\n",
       "<tr>\n",
       "  <th>x27</th>   <td>   -2.1489</td> <td>    0.278</td> <td>   -7.728</td> <td> 0.000</td> <td>   -2.694</td> <td>   -1.604</td>\n",
       "</tr>\n",
       "<tr>\n",
       "  <th>x28</th>   <td>    2.1844</td> <td>    0.259</td> <td>    8.445</td> <td> 0.000</td> <td>    1.677</td> <td>    2.691</td>\n",
       "</tr>\n",
       "<tr>\n",
       "  <th>x29</th>   <td>  -13.3302</td> <td>    1.195</td> <td>  -11.151</td> <td> 0.000</td> <td>  -15.673</td> <td>  -10.987</td>\n",
       "</tr>\n",
       "<tr>\n",
       "  <th>x30</th>   <td>-1959.7324</td> <td>   53.104</td> <td>  -36.904</td> <td> 0.000</td> <td>-2063.814</td> <td>-1855.651</td>\n",
       "</tr>\n",
       "<tr>\n",
       "  <th>x31</th>   <td>   -9.9215</td> <td>    0.803</td> <td>  -12.350</td> <td> 0.000</td> <td>  -11.496</td> <td>   -8.347</td>\n",
       "</tr>\n",
       "<tr>\n",
       "  <th>x32</th>   <td>  -37.0104</td> <td>   15.772</td> <td>   -2.347</td> <td> 0.019</td> <td>  -67.922</td> <td>   -6.099</td>\n",
       "</tr>\n",
       "<tr>\n",
       "  <th>x33</th>   <td> -177.2416</td> <td>   16.949</td> <td>  -10.458</td> <td> 0.000</td> <td> -210.460</td> <td> -144.023</td>\n",
       "</tr>\n",
       "<tr>\n",
       "  <th>x34</th>   <td> -134.2875</td> <td>   21.252</td> <td>   -6.319</td> <td> 0.000</td> <td> -175.941</td> <td>  -92.634</td>\n",
       "</tr>\n",
       "<tr>\n",
       "  <th>x35</th>   <td>  326.6242</td> <td>   19.095</td> <td>   17.106</td> <td> 0.000</td> <td>  289.199</td> <td>  364.049</td>\n",
       "</tr>\n",
       "<tr>\n",
       "  <th>x36</th>   <td>   -7.7728</td> <td>    5.391</td> <td>   -1.442</td> <td> 0.149</td> <td>  -18.339</td> <td>    2.793</td>\n",
       "</tr>\n",
       "<tr>\n",
       "  <th>x37</th>   <td>  -22.0868</td> <td>   13.114</td> <td>   -1.684</td> <td> 0.092</td> <td>  -47.789</td> <td>    3.616</td>\n",
       "</tr>\n",
       "<tr>\n",
       "  <th>x38</th>   <td>   86.8869</td> <td>    9.595</td> <td>    9.055</td> <td> 0.000</td> <td>   68.081</td> <td>  105.693</td>\n",
       "</tr>\n",
       "<tr>\n",
       "  <th>x39</th>   <td>  -45.1507</td> <td>    0.813</td> <td>  -55.564</td> <td> 0.000</td> <td>  -46.743</td> <td>  -43.558</td>\n",
       "</tr>\n",
       "<tr>\n",
       "  <th>x40</th>   <td>  -14.5055</td> <td>    0.606</td> <td>  -23.927</td> <td> 0.000</td> <td>  -15.694</td> <td>  -13.317</td>\n",
       "</tr>\n",
       "<tr>\n",
       "  <th>x41</th>   <td>   22.6765</td> <td>    0.506</td> <td>   44.836</td> <td> 0.000</td> <td>   21.685</td> <td>   23.668</td>\n",
       "</tr>\n",
       "<tr>\n",
       "  <th>x42</th>   <td>  316.4498</td> <td>    8.694</td> <td>   36.397</td> <td> 0.000</td> <td>  299.409</td> <td>  333.490</td>\n",
       "</tr>\n",
       "<tr>\n",
       "  <th>x43</th>   <td>  349.9719</td> <td>    9.279</td> <td>   37.716</td> <td> 0.000</td> <td>  331.785</td> <td>  368.159</td>\n",
       "</tr>\n",
       "<tr>\n",
       "  <th>x44</th>   <td>-9979.9847</td> <td>  555.499</td> <td>  -17.966</td> <td> 0.000</td> <td>-1.11e+04</td> <td>-8891.224</td>\n",
       "</tr>\n",
       "<tr>\n",
       "  <th>x45</th>   <td> 8601.5015</td> <td>  651.793</td> <td>   13.197</td> <td> 0.000</td> <td> 7324.009</td> <td> 9878.994</td>\n",
       "</tr>\n",
       "<tr>\n",
       "  <th>x46</th>   <td> 3847.3988</td> <td>  515.632</td> <td>    7.462</td> <td> 0.000</td> <td> 2836.777</td> <td> 4858.020</td>\n",
       "</tr>\n",
       "<tr>\n",
       "  <th>x47</th>   <td> 1032.2275</td> <td>  554.610</td> <td>    1.861</td> <td> 0.063</td> <td>  -54.789</td> <td> 2119.244</td>\n",
       "</tr>\n",
       "<tr>\n",
       "  <th>x48</th>   <td>-4247.9157</td> <td>  157.929</td> <td>  -26.898</td> <td> 0.000</td> <td>-4557.452</td> <td>-3938.380</td>\n",
       "</tr>\n",
       "<tr>\n",
       "  <th>x49</th>   <td> 1.128e+04</td> <td>  263.186</td> <td>   42.858</td> <td> 0.000</td> <td> 1.08e+04</td> <td> 1.18e+04</td>\n",
       "</tr>\n",
       "<tr>\n",
       "  <th>x50</th>   <td>-9929.3448</td> <td>  227.503</td> <td>  -43.645</td> <td> 0.000</td> <td>-1.04e+04</td> <td>-9483.446</td>\n",
       "</tr>\n",
       "<tr>\n",
       "  <th>x51</th>   <td> -404.0766</td> <td>    8.711</td> <td>  -46.386</td> <td> 0.000</td> <td> -421.150</td> <td> -387.003</td>\n",
       "</tr>\n",
       "<tr>\n",
       "  <th>x52</th>   <td>   15.4318</td> <td>    3.488</td> <td>    4.425</td> <td> 0.000</td> <td>    8.596</td> <td>   22.267</td>\n",
       "</tr>\n",
       "<tr>\n",
       "  <th>x53</th>   <td> -133.7861</td> <td>    6.476</td> <td>  -20.660</td> <td> 0.000</td> <td> -146.478</td> <td> -121.094</td>\n",
       "</tr>\n",
       "<tr>\n",
       "  <th>x54</th>   <td>   -2.8017</td> <td>    0.158</td> <td>  -17.758</td> <td> 0.000</td> <td>   -3.111</td> <td>   -2.492</td>\n",
       "</tr>\n",
       "<tr>\n",
       "  <th>x55</th>   <td>  -34.7365</td> <td>    4.210</td> <td>   -8.251</td> <td> 0.000</td> <td>  -42.988</td> <td>  -26.485</td>\n",
       "</tr>\n",
       "<tr>\n",
       "  <th>x56</th>   <td>   74.9670</td> <td>    4.768</td> <td>   15.723</td> <td> 0.000</td> <td>   65.622</td> <td>   84.312</td>\n",
       "</tr>\n",
       "<tr>\n",
       "  <th>x57</th>   <td>    1.5270</td> <td>    5.065</td> <td>    0.301</td> <td> 0.763</td> <td>   -8.400</td> <td>   11.454</td>\n",
       "</tr>\n",
       "<tr>\n",
       "  <th>x58</th>   <td>  -39.3346</td> <td>    5.004</td> <td>   -7.861</td> <td> 0.000</td> <td>  -49.141</td> <td>  -29.528</td>\n",
       "</tr>\n",
       "<tr>\n",
       "  <th>x59</th>   <td>    2.4717</td> <td>    1.237</td> <td>    1.997</td> <td> 0.046</td> <td>    0.046</td> <td>    4.897</td>\n",
       "</tr>\n",
       "<tr>\n",
       "  <th>x60</th>   <td>  -33.4677</td> <td>    2.776</td> <td>  -12.057</td> <td> 0.000</td> <td>  -38.908</td> <td>  -28.027</td>\n",
       "</tr>\n",
       "<tr>\n",
       "  <th>x61</th>   <td>   32.2382</td> <td>    2.009</td> <td>   16.044</td> <td> 0.000</td> <td>   28.300</td> <td>   36.176</td>\n",
       "</tr>\n",
       "<tr>\n",
       "  <th>x62</th>   <td>   -1.3696</td> <td>    0.141</td> <td>   -9.704</td> <td> 0.000</td> <td>   -1.646</td> <td>   -1.093</td>\n",
       "</tr>\n",
       "<tr>\n",
       "  <th>x63</th>   <td>    6.0113</td> <td>    0.138</td> <td>   43.455</td> <td> 0.000</td> <td>    5.740</td> <td>    6.282</td>\n",
       "</tr>\n",
       "<tr>\n",
       "  <th>x64</th>   <td>   -1.1471</td> <td>    0.107</td> <td>  -10.753</td> <td> 0.000</td> <td>   -1.356</td> <td>   -0.938</td>\n",
       "</tr>\n",
       "<tr>\n",
       "  <th>x65</th>   <td>-1091.0215</td> <td>   61.274</td> <td>  -17.805</td> <td> 0.000</td> <td>-1211.117</td> <td> -970.926</td>\n",
       "</tr>\n",
       "<tr>\n",
       "  <th>x66</th>   <td> 2054.1769</td> <td>  125.867</td> <td>   16.320</td> <td> 0.000</td> <td> 1807.481</td> <td> 2300.873</td>\n",
       "</tr>\n",
       "<tr>\n",
       "  <th>x67</th>   <td> 1325.0902</td> <td>  133.359</td> <td>    9.936</td> <td> 0.000</td> <td> 1063.711</td> <td> 1586.469</td>\n",
       "</tr>\n",
       "<tr>\n",
       "  <th>x68</th>   <td>-2025.4714</td> <td>  135.600</td> <td>  -14.937</td> <td> 0.000</td> <td>-2291.243</td> <td>-1759.700</td>\n",
       "</tr>\n",
       "<tr>\n",
       "  <th>x69</th>   <td>   63.3492</td> <td>   44.656</td> <td>    1.419</td> <td> 0.156</td> <td>  -24.174</td> <td>  150.873</td>\n",
       "</tr>\n",
       "<tr>\n",
       "  <th>x70</th>   <td>-1316.9214</td> <td>   99.754</td> <td>  -13.202</td> <td> 0.000</td> <td>-1512.437</td> <td>-1121.406</td>\n",
       "</tr>\n",
       "<tr>\n",
       "  <th>x71</th>   <td> 1498.6636</td> <td>   73.566</td> <td>   20.372</td> <td> 0.000</td> <td> 1354.476</td> <td> 1642.851</td>\n",
       "</tr>\n",
       "<tr>\n",
       "  <th>x72</th>   <td>   91.0586</td> <td>    4.638</td> <td>   19.633</td> <td> 0.000</td> <td>   81.968</td> <td>  100.149</td>\n",
       "</tr>\n",
       "<tr>\n",
       "  <th>x73</th>   <td>   10.2994</td> <td>    2.728</td> <td>    3.775</td> <td> 0.000</td> <td>    4.952</td> <td>   15.647</td>\n",
       "</tr>\n",
       "<tr>\n",
       "  <th>x74</th>   <td>   48.5162</td> <td>    2.935</td> <td>   16.532</td> <td> 0.000</td> <td>   42.764</td> <td>   54.268</td>\n",
       "</tr>\n",
       "<tr>\n",
       "  <th>x75</th>   <td>-1622.4946</td> <td>   72.929</td> <td>  -22.248</td> <td> 0.000</td> <td>-1765.433</td> <td>-1479.556</td>\n",
       "</tr>\n",
       "<tr>\n",
       "  <th>x76</th>   <td>-1470.3602</td> <td>  148.891</td> <td>   -9.875</td> <td> 0.000</td> <td>-1762.182</td> <td>-1178.538</td>\n",
       "</tr>\n",
       "<tr>\n",
       "  <th>x77</th>   <td> 3170.5483</td> <td>  154.313</td> <td>   20.546</td> <td> 0.000</td> <td> 2868.100</td> <td> 3472.997</td>\n",
       "</tr>\n",
       "<tr>\n",
       "  <th>x78</th>   <td>  280.7868</td> <td>   49.517</td> <td>    5.670</td> <td> 0.000</td> <td>  183.735</td> <td>  377.839</td>\n",
       "</tr>\n",
       "<tr>\n",
       "  <th>x79</th>   <td> 1202.5851</td> <td>  103.046</td> <td>   11.670</td> <td> 0.000</td> <td> 1000.618</td> <td> 1404.553</td>\n",
       "</tr>\n",
       "<tr>\n",
       "  <th>x80</th>   <td>-1606.3603</td> <td>   71.403</td> <td>  -22.497</td> <td> 0.000</td> <td>-1746.309</td> <td>-1466.412</td>\n",
       "</tr>\n",
       "<tr>\n",
       "  <th>x81</th>   <td> -207.4669</td> <td>    5.981</td> <td>  -34.685</td> <td> 0.000</td> <td> -219.190</td> <td> -195.744</td>\n",
       "</tr>\n",
       "<tr>\n",
       "  <th>x82</th>   <td>   -8.8880</td> <td>    2.922</td> <td>   -3.042</td> <td> 0.002</td> <td>  -14.614</td> <td>   -3.162</td>\n",
       "</tr>\n",
       "<tr>\n",
       "  <th>x83</th>   <td>  -54.5558</td> <td>    3.404</td> <td>  -16.026</td> <td> 0.000</td> <td>  -61.228</td> <td>  -47.883</td>\n",
       "</tr>\n",
       "<tr>\n",
       "  <th>x84</th>   <td>-2263.9786</td> <td>  108.564</td> <td>  -20.854</td> <td> 0.000</td> <td>-2476.760</td> <td>-2051.197</td>\n",
       "</tr>\n",
       "<tr>\n",
       "  <th>x85</th>   <td> 3870.3380</td> <td>  197.102</td> <td>   19.636</td> <td> 0.000</td> <td> 3484.024</td> <td> 4256.653</td>\n",
       "</tr>\n",
       "<tr>\n",
       "  <th>x86</th>   <td>   83.4081</td> <td>   42.000</td> <td>    1.986</td> <td> 0.047</td> <td>    1.090</td> <td>  165.726</td>\n",
       "</tr>\n",
       "<tr>\n",
       "  <th>x87</th>   <td>  805.3568</td> <td>   98.388</td> <td>    8.186</td> <td> 0.000</td> <td>  612.520</td> <td>  998.194</td>\n",
       "</tr>\n",
       "<tr>\n",
       "  <th>x88</th>   <td> -532.7658</td> <td>   62.904</td> <td>   -8.470</td> <td> 0.000</td> <td> -656.055</td> <td> -409.477</td>\n",
       "</tr>\n",
       "<tr>\n",
       "  <th>x89</th>   <td>  -53.7397</td> <td>    6.444</td> <td>   -8.339</td> <td> 0.000</td> <td>  -66.370</td> <td>  -41.110</td>\n",
       "</tr>\n",
       "<tr>\n",
       "  <th>x90</th>   <td>   37.5791</td> <td>    3.429</td> <td>   10.960</td> <td> 0.000</td> <td>   30.859</td> <td>   44.299</td>\n",
       "</tr>\n",
       "<tr>\n",
       "  <th>x91</th>   <td>   56.5995</td> <td>    4.016</td> <td>   14.093</td> <td> 0.000</td> <td>   48.728</td> <td>   64.471</td>\n",
       "</tr>\n",
       "<tr>\n",
       "  <th>x92</th>   <td>-1769.2504</td> <td>  102.411</td> <td>  -17.276</td> <td> 0.000</td> <td>-1969.973</td> <td>-1568.528</td>\n",
       "</tr>\n",
       "<tr>\n",
       "  <th>x93</th>   <td> -418.7944</td> <td>   43.275</td> <td>   -9.677</td> <td> 0.000</td> <td> -503.613</td> <td> -333.976</td>\n",
       "</tr>\n",
       "<tr>\n",
       "  <th>x94</th>   <td> -414.9134</td> <td>   95.613</td> <td>   -4.340</td> <td> 0.000</td> <td> -602.312</td> <td> -227.515</td>\n",
       "</tr>\n",
       "<tr>\n",
       "  <th>x95</th>   <td>  -24.2732</td> <td>   59.723</td> <td>   -0.406</td> <td> 0.684</td> <td> -141.328</td> <td>   92.781</td>\n",
       "</tr>\n",
       "<tr>\n",
       "  <th>x96</th>   <td>   -9.2072</td> <td>    6.021</td> <td>   -1.529</td> <td> 0.126</td> <td>  -21.007</td> <td>    2.593</td>\n",
       "</tr>\n",
       "<tr>\n",
       "  <th>x97</th>   <td>  -41.0496</td> <td>    3.210</td> <td>  -12.786</td> <td> 0.000</td> <td>  -47.342</td> <td>  -34.757</td>\n",
       "</tr>\n",
       "<tr>\n",
       "  <th>x98</th>   <td>  -44.6542</td> <td>    3.949</td> <td>  -11.307</td> <td> 0.000</td> <td>  -52.395</td> <td>  -36.914</td>\n",
       "</tr>\n",
       "<tr>\n",
       "  <th>x99</th>   <td> -109.8313</td> <td>    7.565</td> <td>  -14.518</td> <td> 0.000</td> <td> -124.659</td> <td>  -95.004</td>\n",
       "</tr>\n",
       "<tr>\n",
       "  <th>x100</th>  <td>  659.2719</td> <td>   32.512</td> <td>   20.278</td> <td> 0.000</td> <td>  595.550</td> <td>  722.994</td>\n",
       "</tr>\n",
       "<tr>\n",
       "  <th>x101</th>  <td> -318.2657</td> <td>   23.272</td> <td>  -13.676</td> <td> 0.000</td> <td> -363.879</td> <td> -272.653</td>\n",
       "</tr>\n",
       "<tr>\n",
       "  <th>x102</th>  <td>   -3.0704</td> <td>    1.615</td> <td>   -1.902</td> <td> 0.057</td> <td>   -6.235</td> <td>    0.094</td>\n",
       "</tr>\n",
       "<tr>\n",
       "  <th>x103</th>  <td>    2.5548</td> <td>    0.882</td> <td>    2.898</td> <td> 0.004</td> <td>    0.827</td> <td>    4.283</td>\n",
       "</tr>\n",
       "<tr>\n",
       "  <th>x104</th>  <td>   14.7839</td> <td>    0.805</td> <td>   18.356</td> <td> 0.000</td> <td>   13.205</td> <td>   16.363</td>\n",
       "</tr>\n",
       "<tr>\n",
       "  <th>x105</th>  <td>-1716.3227</td> <td>   39.252</td> <td>  -43.726</td> <td> 0.000</td> <td>-1793.255</td> <td>-1639.391</td>\n",
       "</tr>\n",
       "<tr>\n",
       "  <th>x106</th>  <td> 2112.7929</td> <td>   56.036</td> <td>   37.705</td> <td> 0.000</td> <td> 2002.965</td> <td> 2222.621</td>\n",
       "</tr>\n",
       "<tr>\n",
       "  <th>x107</th>  <td>   81.0458</td> <td>    3.678</td> <td>   22.036</td> <td> 0.000</td> <td>   73.837</td> <td>   88.254</td>\n",
       "</tr>\n",
       "<tr>\n",
       "  <th>x108</th>  <td>    1.0784</td> <td>    1.956</td> <td>    0.551</td> <td> 0.581</td> <td>   -2.755</td> <td>    4.911</td>\n",
       "</tr>\n",
       "<tr>\n",
       "  <th>x109</th>  <td>  -64.1779</td> <td>    1.791</td> <td>  -35.830</td> <td> 0.000</td> <td>  -67.689</td> <td>  -60.667</td>\n",
       "</tr>\n",
       "<tr>\n",
       "  <th>x110</th>  <td> -433.9922</td> <td>   21.603</td> <td>  -20.089</td> <td> 0.000</td> <td> -476.334</td> <td> -391.651</td>\n",
       "</tr>\n",
       "<tr>\n",
       "  <th>x111</th>  <td>   24.7066</td> <td>    2.440</td> <td>   10.128</td> <td> 0.000</td> <td>   19.925</td> <td>   29.488</td>\n",
       "</tr>\n",
       "<tr>\n",
       "  <th>x112</th>  <td>    2.3904</td> <td>    1.425</td> <td>    1.677</td> <td> 0.093</td> <td>   -0.403</td> <td>    5.184</td>\n",
       "</tr>\n",
       "<tr>\n",
       "  <th>x113</th>  <td>   60.0228</td> <td>    1.379</td> <td>   43.536</td> <td> 0.000</td> <td>   57.321</td> <td>   62.725</td>\n",
       "</tr>\n",
       "<tr>\n",
       "  <th>x114</th>  <td>   -2.6885</td> <td>    0.113</td> <td>  -23.866</td> <td> 0.000</td> <td>   -2.909</td> <td>   -2.468</td>\n",
       "</tr>\n",
       "<tr>\n",
       "  <th>x115</th>  <td>    2.5618</td> <td>    0.108</td> <td>   23.719</td> <td> 0.000</td> <td>    2.350</td> <td>    2.773</td>\n",
       "</tr>\n",
       "<tr>\n",
       "  <th>x116</th>  <td>    0.7859</td> <td>    0.083</td> <td>    9.462</td> <td> 0.000</td> <td>    0.623</td> <td>    0.949</td>\n",
       "</tr>\n",
       "<tr>\n",
       "  <th>x117</th>  <td>    7.1557</td> <td>    0.070</td> <td>  102.945</td> <td> 0.000</td> <td>    7.019</td> <td>    7.292</td>\n",
       "</tr>\n",
       "<tr>\n",
       "  <th>x118</th>  <td>    0.4970</td> <td>    0.080</td> <td>    6.226</td> <td> 0.000</td> <td>    0.341</td> <td>    0.653</td>\n",
       "</tr>\n",
       "<tr>\n",
       "  <th>x119</th>  <td>  -13.0756</td> <td>    0.069</td> <td> -188.164</td> <td> 0.000</td> <td>  -13.212</td> <td>  -12.939</td>\n",
       "</tr>\n",
       "</table>\n",
       "<table class=\"simpletable\">\n",
       "<tr>\n",
       "  <th>Omnibus:</th>       <td>75780.517</td> <th>  Durbin-Watson:     </th>  <td>   2.003</td> \n",
       "</tr>\n",
       "<tr>\n",
       "  <th>Prob(Omnibus):</th>  <td> 0.000</td>   <th>  Jarque-Bera (JB):  </th> <td>871545.144</td>\n",
       "</tr>\n",
       "<tr>\n",
       "  <th>Skew:</th>           <td>-0.043</td>   <th>  Prob(JB):          </th>  <td>    0.00</td> \n",
       "</tr>\n",
       "<tr>\n",
       "  <th>Kurtosis:</th>       <td> 8.825</td>   <th>  Cond. No.          </th>  <td>6.04e+05</td> \n",
       "</tr>\n",
       "</table><br/><br/>Notes:<br/>[1] Standard Errors assume that the covariance matrix of the errors is correctly specified.<br/>[2] The condition number is large, 6.04e+05. This might indicate that there are<br/>strong multicollinearity or other numerical problems."
      ],
      "text/plain": [
       "<class 'statsmodels.iolib.summary.Summary'>\n",
       "\"\"\"\n",
       "                            OLS Regression Results                            \n",
       "==============================================================================\n",
       "Dep. Variable:                      y   R-squared:                       0.335\n",
       "Model:                            OLS   Adj. R-squared:                  0.335\n",
       "Method:                 Least Squares   F-statistic:                     2610.\n",
       "Date:                Wed, 25 Aug 2021   Prob (F-statistic):               0.00\n",
       "Time:                        19:45:24   Log-Likelihood:            -1.6682e+06\n",
       "No. Observations:              616232   AIC:                         3.337e+06\n",
       "Df Residuals:                  616112   BIC:                         3.338e+06\n",
       "Df Model:                         119                                         \n",
       "Covariance Type:            nonrobust                                         \n",
       "==============================================================================\n",
       "                 coef    std err          t      P>|t|      [0.025      0.975]\n",
       "------------------------------------------------------------------------------\n",
       "const       -454.2643     21.474    -21.154      0.000    -496.353    -412.176\n",
       "x1           493.6005     22.141     22.294      0.000     450.205     536.996\n",
       "x2          1144.3655     28.701     39.872      0.000    1088.112    1200.619\n",
       "x3           751.2588     41.066     18.294      0.000     670.771     831.747\n",
       "x4          -184.1886      5.024    -36.664      0.000    -194.035    -174.342\n",
       "x5          5436.6805    299.664     18.143      0.000    4849.349    6024.012\n",
       "x6         -4983.6394    351.575    -14.175      0.000   -5672.716   -4294.563\n",
       "x7         -2325.0718    278.696     -8.343      0.000   -2871.307   -1778.837\n",
       "x8            48.2559    299.519      0.161      0.872    -538.793     635.304\n",
       "x9          2303.2165     85.227     27.024      0.000    2136.174    2470.259\n",
       "x10        -5985.3618    141.918    -42.175      0.000   -6263.517   -5707.206\n",
       "x11         5133.7684    122.737     41.827      0.000    4893.207    5374.329\n",
       "x12          228.4778      4.718     48.425      0.000     219.230     237.725\n",
       "x13          -15.3417      1.899     -8.080      0.000     -19.063     -11.620\n",
       "x14           78.4159      3.496     22.433      0.000      71.565      85.267\n",
       "x15           20.9337      0.639     32.760      0.000      19.681      22.186\n",
       "x16         -121.9070      2.149    -56.721      0.000    -126.119    -117.695\n",
       "x17         -983.5331     40.945    -24.021      0.000   -1063.784    -903.283\n",
       "x18           -2.1289      0.400     -5.323      0.000      -2.913      -1.345\n",
       "x19          -30.7916     10.983     -2.804      0.005     -52.318      -9.266\n",
       "x20          431.9401     11.198     38.573      0.000     409.993     453.888\n",
       "x21          341.9327     13.133     26.036      0.000     316.193     367.673\n",
       "x22         -738.8700     12.502    -59.102      0.000    -763.373    -714.367\n",
       "x23          -52.0658      4.019    -12.954      0.000     -59.944     -44.188\n",
       "x24           64.9081      8.272      7.846      0.000      48.694      81.122\n",
       "x25           50.2480      5.571      9.019      0.000      39.328      61.168\n",
       "x26           -6.4187      0.419    -15.334      0.000      -7.239      -5.598\n",
       "x27           -2.1489      0.278     -7.728      0.000      -2.694      -1.604\n",
       "x28            2.1844      0.259      8.445      0.000       1.677       2.691\n",
       "x29          -13.3302      1.195    -11.151      0.000     -15.673     -10.987\n",
       "x30        -1959.7324     53.104    -36.904      0.000   -2063.814   -1855.651\n",
       "x31           -9.9215      0.803    -12.350      0.000     -11.496      -8.347\n",
       "x32          -37.0104     15.772     -2.347      0.019     -67.922      -6.099\n",
       "x33         -177.2416     16.949    -10.458      0.000    -210.460    -144.023\n",
       "x34         -134.2875     21.252     -6.319      0.000    -175.941     -92.634\n",
       "x35          326.6242     19.095     17.106      0.000     289.199     364.049\n",
       "x36           -7.7728      5.391     -1.442      0.149     -18.339       2.793\n",
       "x37          -22.0868     13.114     -1.684      0.092     -47.789       3.616\n",
       "x38           86.8869      9.595      9.055      0.000      68.081     105.693\n",
       "x39          -45.1507      0.813    -55.564      0.000     -46.743     -43.558\n",
       "x40          -14.5055      0.606    -23.927      0.000     -15.694     -13.317\n",
       "x41           22.6765      0.506     44.836      0.000      21.685      23.668\n",
       "x42          316.4498      8.694     36.397      0.000     299.409     333.490\n",
       "x43          349.9719      9.279     37.716      0.000     331.785     368.159\n",
       "x44        -9979.9847    555.499    -17.966      0.000   -1.11e+04   -8891.224\n",
       "x45         8601.5015    651.793     13.197      0.000    7324.009    9878.994\n",
       "x46         3847.3988    515.632      7.462      0.000    2836.777    4858.020\n",
       "x47         1032.2275    554.610      1.861      0.063     -54.789    2119.244\n",
       "x48        -4247.9157    157.929    -26.898      0.000   -4557.452   -3938.380\n",
       "x49         1.128e+04    263.186     42.858      0.000    1.08e+04    1.18e+04\n",
       "x50        -9929.3448    227.503    -43.645      0.000   -1.04e+04   -9483.446\n",
       "x51         -404.0766      8.711    -46.386      0.000    -421.150    -387.003\n",
       "x52           15.4318      3.488      4.425      0.000       8.596      22.267\n",
       "x53         -133.7861      6.476    -20.660      0.000    -146.478    -121.094\n",
       "x54           -2.8017      0.158    -17.758      0.000      -3.111      -2.492\n",
       "x55          -34.7365      4.210     -8.251      0.000     -42.988     -26.485\n",
       "x56           74.9670      4.768     15.723      0.000      65.622      84.312\n",
       "x57            1.5270      5.065      0.301      0.763      -8.400      11.454\n",
       "x58          -39.3346      5.004     -7.861      0.000     -49.141     -29.528\n",
       "x59            2.4717      1.237      1.997      0.046       0.046       4.897\n",
       "x60          -33.4677      2.776    -12.057      0.000     -38.908     -28.027\n",
       "x61           32.2382      2.009     16.044      0.000      28.300      36.176\n",
       "x62           -1.3696      0.141     -9.704      0.000      -1.646      -1.093\n",
       "x63            6.0113      0.138     43.455      0.000       5.740       6.282\n",
       "x64           -1.1471      0.107    -10.753      0.000      -1.356      -0.938\n",
       "x65        -1091.0215     61.274    -17.805      0.000   -1211.117    -970.926\n",
       "x66         2054.1769    125.867     16.320      0.000    1807.481    2300.873\n",
       "x67         1325.0902    133.359      9.936      0.000    1063.711    1586.469\n",
       "x68        -2025.4714    135.600    -14.937      0.000   -2291.243   -1759.700\n",
       "x69           63.3492     44.656      1.419      0.156     -24.174     150.873\n",
       "x70        -1316.9214     99.754    -13.202      0.000   -1512.437   -1121.406\n",
       "x71         1498.6636     73.566     20.372      0.000    1354.476    1642.851\n",
       "x72           91.0586      4.638     19.633      0.000      81.968     100.149\n",
       "x73           10.2994      2.728      3.775      0.000       4.952      15.647\n",
       "x74           48.5162      2.935     16.532      0.000      42.764      54.268\n",
       "x75        -1622.4946     72.929    -22.248      0.000   -1765.433   -1479.556\n",
       "x76        -1470.3602    148.891     -9.875      0.000   -1762.182   -1178.538\n",
       "x77         3170.5483    154.313     20.546      0.000    2868.100    3472.997\n",
       "x78          280.7868     49.517      5.670      0.000     183.735     377.839\n",
       "x79         1202.5851    103.046     11.670      0.000    1000.618    1404.553\n",
       "x80        -1606.3603     71.403    -22.497      0.000   -1746.309   -1466.412\n",
       "x81         -207.4669      5.981    -34.685      0.000    -219.190    -195.744\n",
       "x82           -8.8880      2.922     -3.042      0.002     -14.614      -3.162\n",
       "x83          -54.5558      3.404    -16.026      0.000     -61.228     -47.883\n",
       "x84        -2263.9786    108.564    -20.854      0.000   -2476.760   -2051.197\n",
       "x85         3870.3380    197.102     19.636      0.000    3484.024    4256.653\n",
       "x86           83.4081     42.000      1.986      0.047       1.090     165.726\n",
       "x87          805.3568     98.388      8.186      0.000     612.520     998.194\n",
       "x88         -532.7658     62.904     -8.470      0.000    -656.055    -409.477\n",
       "x89          -53.7397      6.444     -8.339      0.000     -66.370     -41.110\n",
       "x90           37.5791      3.429     10.960      0.000      30.859      44.299\n",
       "x91           56.5995      4.016     14.093      0.000      48.728      64.471\n",
       "x92        -1769.2504    102.411    -17.276      0.000   -1969.973   -1568.528\n",
       "x93         -418.7944     43.275     -9.677      0.000    -503.613    -333.976\n",
       "x94         -414.9134     95.613     -4.340      0.000    -602.312    -227.515\n",
       "x95          -24.2732     59.723     -0.406      0.684    -141.328      92.781\n",
       "x96           -9.2072      6.021     -1.529      0.126     -21.007       2.593\n",
       "x97          -41.0496      3.210    -12.786      0.000     -47.342     -34.757\n",
       "x98          -44.6542      3.949    -11.307      0.000     -52.395     -36.914\n",
       "x99         -109.8313      7.565    -14.518      0.000    -124.659     -95.004\n",
       "x100         659.2719     32.512     20.278      0.000     595.550     722.994\n",
       "x101        -318.2657     23.272    -13.676      0.000    -363.879    -272.653\n",
       "x102          -3.0704      1.615     -1.902      0.057      -6.235       0.094\n",
       "x103           2.5548      0.882      2.898      0.004       0.827       4.283\n",
       "x104          14.7839      0.805     18.356      0.000      13.205      16.363\n",
       "x105       -1716.3227     39.252    -43.726      0.000   -1793.255   -1639.391\n",
       "x106        2112.7929     56.036     37.705      0.000    2002.965    2222.621\n",
       "x107          81.0458      3.678     22.036      0.000      73.837      88.254\n",
       "x108           1.0784      1.956      0.551      0.581      -2.755       4.911\n",
       "x109         -64.1779      1.791    -35.830      0.000     -67.689     -60.667\n",
       "x110        -433.9922     21.603    -20.089      0.000    -476.334    -391.651\n",
       "x111          24.7066      2.440     10.128      0.000      19.925      29.488\n",
       "x112           2.3904      1.425      1.677      0.093      -0.403       5.184\n",
       "x113          60.0228      1.379     43.536      0.000      57.321      62.725\n",
       "x114          -2.6885      0.113    -23.866      0.000      -2.909      -2.468\n",
       "x115           2.5618      0.108     23.719      0.000       2.350       2.773\n",
       "x116           0.7859      0.083      9.462      0.000       0.623       0.949\n",
       "x117           7.1557      0.070    102.945      0.000       7.019       7.292\n",
       "x118           0.4970      0.080      6.226      0.000       0.341       0.653\n",
       "x119         -13.0756      0.069   -188.164      0.000     -13.212     -12.939\n",
       "==============================================================================\n",
       "Omnibus:                    75780.517   Durbin-Watson:                   2.003\n",
       "Prob(Omnibus):                  0.000   Jarque-Bera (JB):           871545.144\n",
       "Skew:                          -0.043   Prob(JB):                         0.00\n",
       "Kurtosis:                       8.825   Cond. No.                     6.04e+05\n",
       "==============================================================================\n",
       "\n",
       "Notes:\n",
       "[1] Standard Errors assume that the covariance matrix of the errors is correctly specified.\n",
       "[2] The condition number is large, 6.04e+05. This might indicate that there are\n",
       "strong multicollinearity or other numerical problems.\n",
       "\"\"\""
      ]
     },
     "execution_count": 58,
     "metadata": {},
     "output_type": "execute_result"
    }
   ],
   "source": [
    "model = sm.OLS(y_train, X_train).fit()\n",
    "model.summary()"
   ]
  },
  {
   "cell_type": "code",
   "execution_count": 59,
   "metadata": {},
   "outputs": [],
   "source": [
    "predicted_Y = model.predict(X_test)"
   ]
  },
  {
   "cell_type": "code",
   "execution_count": 60,
   "metadata": {},
   "outputs": [
    {
     "data": {
      "text/plain": [
       "154058"
      ]
     },
     "execution_count": 60,
     "metadata": {},
     "output_type": "execute_result"
    }
   ],
   "source": [
    "Y = y_test\n",
    "len(Y)"
   ]
  },
  {
   "cell_type": "code",
   "execution_count": 61,
   "metadata": {
    "scrolled": true
   },
   "outputs": [
    {
     "data": {
      "text/plain": [
       "154058"
      ]
     },
     "execution_count": 61,
     "metadata": {},
     "output_type": "execute_result"
    }
   ],
   "source": [
    "len(predicted_Y)"
   ]
  },
  {
   "cell_type": "markdown",
   "metadata": {},
   "source": [
    "## Get MAE"
   ]
  },
  {
   "cell_type": "code",
   "execution_count": 62,
   "metadata": {},
   "outputs": [
    {
     "name": "stdout",
     "output_type": "stream",
     "text": [
      "2.836839200146162\n"
     ]
    }
   ],
   "source": [
    "MAE = 0\n",
    "for i in range(0, len(Y)):\n",
    "    MAE = MAE+abs(Y[i]-predicted_Y[i])\n",
    "MAE = MAE/len(Y)\n",
    "print(MAE)"
   ]
  },
  {
   "cell_type": "markdown",
   "metadata": {},
   "source": [
    "## Get MSE"
   ]
  },
  {
   "cell_type": "code",
   "execution_count": 63,
   "metadata": {},
   "outputs": [
    {
     "name": "stdout",
     "output_type": "stream",
     "text": [
      "13.027481437849254\n"
     ]
    }
   ],
   "source": [
    "MSE = 0\n",
    "for i in range(0, len(Y)):\n",
    "    MSE = MSE+(Y[i]-predicted_Y[i])*(Y[i]-predicted_Y[i])\n",
    "MSE = MSE/len(Y)\n",
    "print(MSE)"
   ]
  },
  {
   "cell_type": "code",
   "execution_count": null,
   "metadata": {},
   "outputs": [],
   "source": []
  }
 ],
 "metadata": {
  "kernelspec": {
   "display_name": "Python 3",
   "language": "python",
   "name": "python3"
  },
  "language_info": {
   "codemirror_mode": {
    "name": "ipython",
    "version": 3
   },
   "file_extension": ".py",
   "mimetype": "text/x-python",
   "name": "python",
   "nbconvert_exporter": "python",
   "pygments_lexer": "ipython3",
   "version": "3.8.5"
  }
 },
 "nbformat": 4,
 "nbformat_minor": 4
}
