{
 "cells": [
  {
   "cell_type": "markdown",
   "metadata": {},
   "source": [
    "# 2018, ANN"
   ]
  },
  {
   "cell_type": "code",
   "execution_count": 48,
   "metadata": {},
   "outputs": [],
   "source": [
    "import numpy as np\n",
    "import tensorflow as tf\n",
    "import matplotlib.pyplot as plt\n",
    "from tensorflow.keras.models import Sequential, Model, load_model, save_model\n",
    "from tensorflow.keras.callbacks import ModelCheckpoint\n",
    "from tensorflow.keras.layers import Dense, Activation, Dropout, Input, Masking, TimeDistributed, LSTM, Conv1D, Embedding\n",
    "from tensorflow.keras.layers import GRU, Bidirectional, BatchNormalization, Reshape\n",
    "from tensorflow.keras.optimizers import Adam\n",
    "\n",
    "from tensorflow.keras.layers import Reshape, Dropout, Dense,Multiply, Dot, Concatenate,Embedding\n",
    "from tensorflow.keras import optimizers\n",
    "from tensorflow.keras.callbacks import ModelCheckpoint\n",
    "from tensorflow.keras.optimizers import SGD\n",
    "from tensorflow.keras.callbacks import EarlyStopping "
   ]
  },
  {
   "cell_type": "code",
   "execution_count": 49,
   "metadata": {},
   "outputs": [],
   "source": [
    "import pandas as pd"
   ]
  },
  {
   "cell_type": "code",
   "execution_count": 50,
   "metadata": {},
   "outputs": [],
   "source": [
    "data = pd.read_csv(\"./final_input/rt.csv\")"
   ]
  },
  {
   "cell_type": "code",
   "execution_count": null,
   "metadata": {},
   "outputs": [],
   "source": [
    "df = data"
   ]
  },
  {
   "cell_type": "code",
   "execution_count": 52,
   "metadata": {},
   "outputs": [
    {
     "data": {
      "text/plain": [
       "array([27.613 , 23.1775, 19.889 , ..., 25.954 , 22.4645, 20.319 ])"
      ]
     },
     "execution_count": 52,
     "metadata": {},
     "output_type": "execute_result"
    }
   ],
   "source": [
    "Y = df[\"temp\"]\n",
    "data_Y = np.array(Y.tolist())\n",
    "data_Y"
   ]
  },
  {
   "cell_type": "code",
   "execution_count": 53,
   "metadata": {},
   "outputs": [],
   "source": [
    "df.drop(df.columns[[0, 1]], axis=1, inplace=True)"
   ]
  },
  {
   "cell_type": "code",
   "execution_count": 54,
   "metadata": {},
   "outputs": [],
   "source": [
    "data_X = df.values"
   ]
  },
  {
   "cell_type": "code",
   "execution_count": 55,
   "metadata": {},
   "outputs": [
    {
     "data": {
      "text/plain": [
       "array([27.613 , 23.1775, 19.889 , ..., 25.954 , 22.4645, 20.319 ])"
      ]
     },
     "execution_count": 55,
     "metadata": {},
     "output_type": "execute_result"
    }
   ],
   "source": [
    "data_Y"
   ]
  },
  {
   "cell_type": "code",
   "execution_count": 56,
   "metadata": {},
   "outputs": [
    {
     "data": {
      "text/plain": [
       "array([[ 4.4761e+01,  1.0310e+00,  0.0000e+00, ...,  9.0500e+02,\n",
       "         2.0000e+00,  2.0180e+03],\n",
       "       [ 7.6410e+01,  5.0000e-01,  1.1200e-01, ...,  1.2650e+03,\n",
       "         3.0000e+00,  2.0180e+03],\n",
       "       [ 8.2507e+01,  1.4220e+01, -1.8800e-01, ...,  1.2150e+03,\n",
       "         0.0000e+00,  2.0180e+03],\n",
       "       ...,\n",
       "       [ 4.8914e+01,  4.5600e-01, -9.7000e-02, ...,  1.0450e+03,\n",
       "         9.2000e+01,  2.0180e+03],\n",
       "       [ 7.3932e+01,  2.3230e+00,  3.9000e-02, ...,  3.2500e+02,\n",
       "         9.0000e+01,  2.0180e+03],\n",
       "       [ 1.0000e+02,  6.5400e-01,  1.3200e-01, ...,  8.5500e+02,\n",
       "         9.4000e+01,  2.0180e+03]])"
      ]
     },
     "execution_count": 56,
     "metadata": {},
     "output_type": "execute_result"
    }
   ],
   "source": [
    "data_X"
   ]
  },
  {
   "cell_type": "code",
   "execution_count": 57,
   "metadata": {},
   "outputs": [
    {
     "data": {
      "text/plain": [
       "(770290, 16)"
      ]
     },
     "execution_count": 57,
     "metadata": {},
     "output_type": "execute_result"
    }
   ],
   "source": [
    "data_X.shape"
   ]
  },
  {
   "cell_type": "markdown",
   "metadata": {},
   "source": [
    "## Normalization"
   ]
  },
  {
   "cell_type": "code",
   "execution_count": 58,
   "metadata": {},
   "outputs": [],
   "source": [
    "def column(matrix, i):\n",
    "    return [row[i] for row in matrix]\n",
    "def norm(lst):\n",
    "    min_v = min(lst)\n",
    "    max_v = max(lst)\n",
    "    norm_lst = [(i-min_v)/(max_v-min_v) for i in lst]\n",
    "    return norm_lst"
   ]
  },
  {
   "cell_type": "code",
   "execution_count": 59,
   "metadata": {},
   "outputs": [],
   "source": [
    "curr = column(data_X, 0)\n",
    "rt = np.array([norm(curr)])\n",
    "for i in range(1, 15):\n",
    "    if (i!=3):\n",
    "        curr = column(data_X, i)\n",
    "        rt = np.concatenate((rt, np.array([norm(curr)])))"
   ]
  },
  {
   "cell_type": "code",
   "execution_count": 60,
   "metadata": {},
   "outputs": [
    {
     "data": {
      "text/plain": [
       "(770290, 14)"
      ]
     },
     "execution_count": 60,
     "metadata": {},
     "output_type": "execute_result"
    }
   ],
   "source": [
    "final_rt = rt.T\n",
    "final_rt.shape"
   ]
  },
  {
   "cell_type": "code",
   "execution_count": 61,
   "metadata": {},
   "outputs": [],
   "source": [
    "data_X = final_rt"
   ]
  },
  {
   "cell_type": "code",
   "execution_count": 62,
   "metadata": {},
   "outputs": [
    {
     "data": {
      "text/plain": [
       "(770290, 14)"
      ]
     },
     "execution_count": 62,
     "metadata": {},
     "output_type": "execute_result"
    }
   ],
   "source": [
    "data_X.shape"
   ]
  },
  {
   "cell_type": "code",
   "execution_count": 63,
   "metadata": {},
   "outputs": [
    {
     "data": {
      "text/plain": [
       "(770290,)"
      ]
     },
     "execution_count": 63,
     "metadata": {},
     "output_type": "execute_result"
    }
   ],
   "source": [
    "data_Y.shape"
   ]
  },
  {
   "cell_type": "code",
   "execution_count": 64,
   "metadata": {},
   "outputs": [
    {
     "name": "stdout",
     "output_type": "stream",
     "text": [
      "((616232, 14), (616232,), (154058, 14), (154058,))\n"
     ]
    }
   ],
   "source": [
    "from sklearn.model_selection import train_test_split\n",
    "\n",
    "X_train, X_test, y_train, y_test = train_test_split(data_X, data_Y, test_size=0.2, random_state=42)\n",
    "y_train  = y_train.astype(float)\n",
    "y_test  = y_test.astype(float)\n",
    "batch_size =len(X_train)\n",
    "\n",
    "print(X_train.shape, y_train.shape, X_test.shape, y_test.shape )"
   ]
  },
  {
   "cell_type": "code",
   "execution_count": 65,
   "metadata": {},
   "outputs": [
    {
     "data": {
      "text/plain": [
       "array([27.613 , 23.1775, 19.889 , ..., 25.954 , 22.4645, 20.319 ])"
      ]
     },
     "execution_count": 65,
     "metadata": {},
     "output_type": "execute_result"
    }
   ],
   "source": [
    "data_Y"
   ]
  },
  {
   "cell_type": "code",
   "execution_count": 66,
   "metadata": {},
   "outputs": [
    {
     "data": {
      "text/plain": [
       "array([0.66410697, 0.01444402, 0.53919185, 0.14865293, 0.21018944,\n",
       "       0.22850487, 0.28961718, 0.29813809, 0.34211642, 0.37329904,\n",
       "       0.36700773, 0.60230189, 0.62937063, 0.0212766 ])"
      ]
     },
     "execution_count": 66,
     "metadata": {},
     "output_type": "execute_result"
    }
   ],
   "source": [
    "data_X[0]"
   ]
  },
  {
   "cell_type": "markdown",
   "metadata": {},
   "source": [
    "## ANN with MAE"
   ]
  },
  {
   "cell_type": "code",
   "execution_count": 67,
   "metadata": {},
   "outputs": [],
   "source": [
    "classifier = Sequential()\n",
    "     # better values with tanh against relu, sigmoid...\n",
    "classifier.add(Dense(64, activation = 'tanh', input_dim = 14)) \n",
    "classifier.add(Dropout(0.2))\n",
    "classifier.add(Dense(32, activation='relu')) \n",
    "classifier.add(Dropout(0.2))\n",
    "classifier.add(Dense(8, activation='relu')) \n",
    "classifier.add(Dropout(0.2))\n",
    "classifier.add(Dense(1))\n",
    "classifier.compile(optimizer = 'sgd', loss = 'mean_absolute_error')"
   ]
  },
  {
   "cell_type": "code",
   "execution_count": 68,
   "metadata": {},
   "outputs": [],
   "source": [
    "history_mse = classifier.fit(data_X, data_Y, epochs = 100, verbose = 0, validation_split = 0.2)"
   ]
  },
  {
   "cell_type": "code",
   "execution_count": 69,
   "metadata": {
    "scrolled": true
   },
   "outputs": [
    {
     "name": "stdout",
     "output_type": "stream",
     "text": [
      "154058/154058 [==============================] - 3s 20us/sample - loss: 2.7469\n",
      "('Test Score:', 2.7469400249379134)\n",
      "616232/616232 [==============================] - 13s 21us/sample - loss: 2.7415s - loss - ETA: 0s - loss: 2\n",
      "('Train Score:', 2.7415232296931173)\n"
     ]
    }
   ],
   "source": [
    "score_mse_test = classifier.evaluate(X_test, y_test)\n",
    "print('Test Score:', score_mse_test)\n",
    "\n",
    "score_mse_train = classifier.evaluate(X_train, y_train)\n",
    "print('Train Score:', score_mse_train)"
   ]
  },
  {
   "cell_type": "code",
   "execution_count": 70,
   "metadata": {
    "scrolled": true
   },
   "outputs": [
    {
     "data": {
      "text/plain": [
       "<matplotlib.legend.Legend at 0x152f7b790>"
      ]
     },
     "execution_count": 70,
     "metadata": {},
     "output_type": "execute_result"
    },
    {
     "data": {
      "image/png": "[encoded data removed]",
      "text/plain": [
       "<Figure size 1080x432 with 1 Axes>"
      ]
     },
     "metadata": {
      "needs_background": "light"
     },
     "output_type": "display_data"
    }
   ],
   "source": [
    "plt.figure(figsize=(15, 6))\n",
    "plt.plot(history_mse.history['loss'], lw =3, ls = '--', label = 'Loss')\n",
    "plt.plot(history_mse.history['val_loss'], lw =2, ls = '-', label = 'Val Loss')\n",
    "plt.xlabel('Epochs', fontsize=15)\n",
    "plt.ylabel('Loss', fontsize=15)\n",
    "plt.title('2018 MAE, ANN')\n",
    "plt.legend()"
   ]
  },
  {
   "cell_type": "code",
   "execution_count": null,
   "metadata": {},
   "outputs": [],
   "source": []
  },
  {
   "cell_type": "code",
   "execution_count": null,
   "metadata": {},
   "outputs": [],
   "source": []
  }
 ],
 "metadata": {
  "kernelspec": {
   "display_name": "Python 2",
   "language": "python",
   "name": "python2"
  },
  "language_info": {
   "codemirror_mode": {
    "name": "ipython",
    "version": 2
   },
   "file_extension": ".py",
   "mimetype": "text/x-python",
   "name": "python",
   "nbconvert_exporter": "python",
   "pygments_lexer": "ipython2",
   "version": "2.7.16"
  }
 },
 "nbformat": 4,
 "nbformat_minor": 4
}
